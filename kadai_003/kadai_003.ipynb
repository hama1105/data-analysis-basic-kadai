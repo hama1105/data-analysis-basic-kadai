{
  "nbformat": 4,
  "nbformat_minor": 0,
  "metadata": {
    "colab": {
      "provenance": []
    },
    "kernelspec": {
      "name": "python3",
      "display_name": "Python 3"
    },
    "language_info": {
      "name": "python"
    }
  },
  "cells": [
    {
      "cell_type": "markdown",
      "source": [],
      "metadata": {
        "id": "V4ikkwMX4BXh"
      }
    },
    {
      "cell_type": "code",
      "source": [
        "# kadai_003（課題 NumPyで配列の操作や演算をしよう）\n",
        "# Step1 NumPyをインポートするコードを記述する\n",
        "import numpy as np\n",
        "\n",
        "# Step2 AとBの行列を格納する多次元配列のコードを記述する\n",
        "A = np.array([[0, 1], [2, 3], [4, 5]])\n",
        "B = np.array([[0, 1, 2, 3], [4, 5, 6, 7]])\n",
        "\n",
        "# Step3 行列の積の計算をするコードを記述する\n",
        "addition = np.dot(A, B)\n",
        "\n",
        "# Step4 Step3.の計算結果を表示するコードを記述する\n",
        "print(addition)\n",
        "\n",
        "# Step5 行列の要素の最大値を求めるコードを記述する\n",
        "addition.max()"
      ],
      "metadata": {
        "colab": {
          "base_uri": "https://localhost:8080/"
        },
        "id": "J5DcEfWnlzje",
        "outputId": "f5d3b69b-ccc8-4184-a1a8-5c534913b180"
      },
      "execution_count": 11,
      "outputs": [
        {
          "output_type": "stream",
          "name": "stdout",
          "text": [
            "[[ 4  5  6  7]\n",
            " [12 17 22 27]\n",
            " [20 29 38 47]]\n"
          ]
        },
        {
          "output_type": "execute_result",
          "data": {
            "text/plain": [
              "np.int64(47)"
            ]
          },
          "metadata": {},
          "execution_count": 11
        }
      ]
    }
  ]
}